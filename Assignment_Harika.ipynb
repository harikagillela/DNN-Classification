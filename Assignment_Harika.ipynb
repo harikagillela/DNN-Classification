{
 "cells": [
  {
   "cell_type": "markdown",
   "metadata": {},
   "source": [
    "## Deep Neural Network - Classification"
   ]
  },
  {
   "cell_type": "markdown",
   "metadata": {},
   "source": [
    "The data set (housing.csv) includes information about houses in each district in California. Predict the ocean proximity (`ocean_proximity` column) in the data set. This column determines whether the district is inland, near ocean, etc. This is a multi-class classification task. \n",
    "\n",
    "**The unit of analysis is a DISTRICT**\n",
    "\n"
   ]
  },
  {
   "cell_type": "markdown",
   "metadata": {},
   "source": [
    "## Goal\n",
    "\n",
    "Use the **housing.csv** data set and build the below models to predict **ocean_proximity**. "
   ]
  },
  {
   "cell_type": "markdown",
   "metadata": {},
   "source": [
    "# Read and Prepare the Data"
   ]
  },
  {
   "cell_type": "code",
   "execution_count": 1,
   "metadata": {},
   "outputs": [],
   "source": [
    "# Importing basic packages\n",
    "import pandas as pd\n",
    "import numpy as np\n",
    "import seaborn as sns\n",
    "import matplotlib.pyplot as plt"
   ]
  },
  {
   "cell_type": "code",
   "execution_count": 2,
   "metadata": {},
   "outputs": [
    {
     "data": {
      "text/html": [
       "<div>\n",
       "<style scoped>\n",
       "    .dataframe tbody tr th:only-of-type {\n",
       "        vertical-align: middle;\n",
       "    }\n",
       "\n",
       "    .dataframe tbody tr th {\n",
       "        vertical-align: top;\n",
       "    }\n",
       "\n",
       "    .dataframe thead th {\n",
       "        text-align: right;\n",
       "    }\n",
       "</style>\n",
       "<table border=\"1\" class=\"dataframe\">\n",
       "  <thead>\n",
       "    <tr style=\"text-align: right;\">\n",
       "      <th></th>\n",
       "      <th>longitude</th>\n",
       "      <th>latitude</th>\n",
       "      <th>housing_median_age</th>\n",
       "      <th>total_rooms</th>\n",
       "      <th>total_bedrooms</th>\n",
       "      <th>population</th>\n",
       "      <th>households</th>\n",
       "      <th>median_income</th>\n",
       "      <th>median_house_value</th>\n",
       "      <th>ocean_proximity</th>\n",
       "    </tr>\n",
       "  </thead>\n",
       "  <tbody>\n",
       "    <tr>\n",
       "      <th>0</th>\n",
       "      <td>-122.23</td>\n",
       "      <td>37.88</td>\n",
       "      <td>41</td>\n",
       "      <td>880</td>\n",
       "      <td>129.0</td>\n",
       "      <td>322</td>\n",
       "      <td>126</td>\n",
       "      <td>8.3252</td>\n",
       "      <td>452600</td>\n",
       "      <td>NEAR BAY</td>\n",
       "    </tr>\n",
       "    <tr>\n",
       "      <th>1</th>\n",
       "      <td>-122.22</td>\n",
       "      <td>37.86</td>\n",
       "      <td>21</td>\n",
       "      <td>7099</td>\n",
       "      <td>1106.0</td>\n",
       "      <td>2401</td>\n",
       "      <td>1138</td>\n",
       "      <td>8.3014</td>\n",
       "      <td>358500</td>\n",
       "      <td>NEAR BAY</td>\n",
       "    </tr>\n",
       "    <tr>\n",
       "      <th>2</th>\n",
       "      <td>-122.24</td>\n",
       "      <td>37.85</td>\n",
       "      <td>52</td>\n",
       "      <td>1467</td>\n",
       "      <td>190.0</td>\n",
       "      <td>496</td>\n",
       "      <td>177</td>\n",
       "      <td>7.2574</td>\n",
       "      <td>352100</td>\n",
       "      <td>NEAR BAY</td>\n",
       "    </tr>\n",
       "    <tr>\n",
       "      <th>3</th>\n",
       "      <td>-122.25</td>\n",
       "      <td>37.85</td>\n",
       "      <td>52</td>\n",
       "      <td>1274</td>\n",
       "      <td>235.0</td>\n",
       "      <td>558</td>\n",
       "      <td>219</td>\n",
       "      <td>5.6431</td>\n",
       "      <td>341300</td>\n",
       "      <td>NEAR BAY</td>\n",
       "    </tr>\n",
       "    <tr>\n",
       "      <th>4</th>\n",
       "      <td>-122.25</td>\n",
       "      <td>37.85</td>\n",
       "      <td>52</td>\n",
       "      <td>1627</td>\n",
       "      <td>280.0</td>\n",
       "      <td>565</td>\n",
       "      <td>259</td>\n",
       "      <td>3.8462</td>\n",
       "      <td>342200</td>\n",
       "      <td>NEAR BAY</td>\n",
       "    </tr>\n",
       "  </tbody>\n",
       "</table>\n",
       "</div>"
      ],
      "text/plain": [
       "   longitude  latitude  housing_median_age  total_rooms  total_bedrooms  \\\n",
       "0    -122.23     37.88                  41          880           129.0   \n",
       "1    -122.22     37.86                  21         7099          1106.0   \n",
       "2    -122.24     37.85                  52         1467           190.0   \n",
       "3    -122.25     37.85                  52         1274           235.0   \n",
       "4    -122.25     37.85                  52         1627           280.0   \n",
       "\n",
       "   population  households  median_income  median_house_value ocean_proximity  \n",
       "0         322         126         8.3252              452600        NEAR BAY  \n",
       "1        2401        1138         8.3014              358500        NEAR BAY  \n",
       "2         496         177         7.2574              352100        NEAR BAY  \n",
       "3         558         219         5.6431              341300        NEAR BAY  \n",
       "4         565         259         3.8462              342200        NEAR BAY  "
      ]
     },
     "execution_count": 2,
     "metadata": {},
     "output_type": "execute_result"
    }
   ],
   "source": [
    "# Read data\n",
    "housing = pd.read_csv('housing.csv')\n",
    "housing.head()"
   ]
  },
  {
   "cell_type": "code",
   "execution_count": 3,
   "metadata": {},
   "outputs": [
    {
     "data": {
      "text/plain": [
       "longitude               0\n",
       "latitude                0\n",
       "housing_median_age      0\n",
       "total_rooms             0\n",
       "total_bedrooms        207\n",
       "population              0\n",
       "households              0\n",
       "median_income           0\n",
       "median_house_value      0\n",
       "ocean_proximity         5\n",
       "dtype: int64"
      ]
     },
     "execution_count": 3,
     "metadata": {},
     "output_type": "execute_result"
    }
   ],
   "source": [
    "# Check for missing values\n",
    "housing.isnull().sum()"
   ]
  },
  {
   "cell_type": "markdown",
   "metadata": {},
   "source": [
    "The data has missing values in the columns total bedrooms and ocean proximity. Since the dataset has 20635 records and we have only 207 missing values we can delete these records instead of replacing with other values."
   ]
  },
  {
   "cell_type": "code",
   "execution_count": 4,
   "metadata": {},
   "outputs": [
    {
     "data": {
      "text/html": [
       "<div>\n",
       "<style scoped>\n",
       "    .dataframe tbody tr th:only-of-type {\n",
       "        vertical-align: middle;\n",
       "    }\n",
       "\n",
       "    .dataframe tbody tr th {\n",
       "        vertical-align: top;\n",
       "    }\n",
       "\n",
       "    .dataframe thead th {\n",
       "        text-align: right;\n",
       "    }\n",
       "</style>\n",
       "<table border=\"1\" class=\"dataframe\">\n",
       "  <thead>\n",
       "    <tr style=\"text-align: right;\">\n",
       "      <th></th>\n",
       "      <th>longitude</th>\n",
       "      <th>latitude</th>\n",
       "      <th>housing_median_age</th>\n",
       "      <th>total_rooms</th>\n",
       "      <th>total_bedrooms</th>\n",
       "      <th>population</th>\n",
       "      <th>households</th>\n",
       "      <th>median_income</th>\n",
       "      <th>median_house_value</th>\n",
       "    </tr>\n",
       "  </thead>\n",
       "  <tbody>\n",
       "    <tr>\n",
       "      <th>count</th>\n",
       "      <td>20428.000000</td>\n",
       "      <td>20428.000000</td>\n",
       "      <td>20428.000000</td>\n",
       "      <td>20428.000000</td>\n",
       "      <td>20428.000000</td>\n",
       "      <td>20428.000000</td>\n",
       "      <td>20428.000000</td>\n",
       "      <td>20428.000000</td>\n",
       "      <td>20428.000000</td>\n",
       "    </tr>\n",
       "    <tr>\n",
       "      <th>mean</th>\n",
       "      <td>-119.570986</td>\n",
       "      <td>35.633778</td>\n",
       "      <td>28.629724</td>\n",
       "      <td>2636.764147</td>\n",
       "      <td>537.899305</td>\n",
       "      <td>1425.132220</td>\n",
       "      <td>499.488007</td>\n",
       "      <td>3.871437</td>\n",
       "      <td>206821.928432</td>\n",
       "    </tr>\n",
       "    <tr>\n",
       "      <th>std</th>\n",
       "      <td>2.003732</td>\n",
       "      <td>2.136312</td>\n",
       "      <td>12.590156</td>\n",
       "      <td>2185.451409</td>\n",
       "      <td>421.425970</td>\n",
       "      <td>1133.277418</td>\n",
       "      <td>382.326831</td>\n",
       "      <td>1.899432</td>\n",
       "      <td>115412.337452</td>\n",
       "    </tr>\n",
       "    <tr>\n",
       "      <th>min</th>\n",
       "      <td>-124.350000</td>\n",
       "      <td>32.540000</td>\n",
       "      <td>1.000000</td>\n",
       "      <td>2.000000</td>\n",
       "      <td>1.000000</td>\n",
       "      <td>3.000000</td>\n",
       "      <td>1.000000</td>\n",
       "      <td>0.499900</td>\n",
       "      <td>14999.000000</td>\n",
       "    </tr>\n",
       "    <tr>\n",
       "      <th>25%</th>\n",
       "      <td>-121.800000</td>\n",
       "      <td>33.930000</td>\n",
       "      <td>18.000000</td>\n",
       "      <td>1450.000000</td>\n",
       "      <td>296.000000</td>\n",
       "      <td>788.000000</td>\n",
       "      <td>280.000000</td>\n",
       "      <td>2.563400</td>\n",
       "      <td>119475.000000</td>\n",
       "    </tr>\n",
       "    <tr>\n",
       "      <th>50%</th>\n",
       "      <td>-118.500000</td>\n",
       "      <td>34.260000</td>\n",
       "      <td>29.000000</td>\n",
       "      <td>2127.000000</td>\n",
       "      <td>435.000000</td>\n",
       "      <td>1166.000000</td>\n",
       "      <td>409.000000</td>\n",
       "      <td>3.537500</td>\n",
       "      <td>179700.000000</td>\n",
       "    </tr>\n",
       "    <tr>\n",
       "      <th>75%</th>\n",
       "      <td>-118.010000</td>\n",
       "      <td>37.720000</td>\n",
       "      <td>37.000000</td>\n",
       "      <td>3143.250000</td>\n",
       "      <td>647.000000</td>\n",
       "      <td>1723.000000</td>\n",
       "      <td>604.000000</td>\n",
       "      <td>4.744075</td>\n",
       "      <td>264700.000000</td>\n",
       "    </tr>\n",
       "    <tr>\n",
       "      <th>max</th>\n",
       "      <td>-114.310000</td>\n",
       "      <td>41.950000</td>\n",
       "      <td>52.000000</td>\n",
       "      <td>39320.000000</td>\n",
       "      <td>6445.000000</td>\n",
       "      <td>35682.000000</td>\n",
       "      <td>6082.000000</td>\n",
       "      <td>15.000100</td>\n",
       "      <td>500001.000000</td>\n",
       "    </tr>\n",
       "  </tbody>\n",
       "</table>\n",
       "</div>"
      ],
      "text/plain": [
       "          longitude      latitude  housing_median_age   total_rooms  \\\n",
       "count  20428.000000  20428.000000        20428.000000  20428.000000   \n",
       "mean    -119.570986     35.633778           28.629724   2636.764147   \n",
       "std        2.003732      2.136312           12.590156   2185.451409   \n",
       "min     -124.350000     32.540000            1.000000      2.000000   \n",
       "25%     -121.800000     33.930000           18.000000   1450.000000   \n",
       "50%     -118.500000     34.260000           29.000000   2127.000000   \n",
       "75%     -118.010000     37.720000           37.000000   3143.250000   \n",
       "max     -114.310000     41.950000           52.000000  39320.000000   \n",
       "\n",
       "       total_bedrooms    population    households  median_income  \\\n",
       "count    20428.000000  20428.000000  20428.000000   20428.000000   \n",
       "mean       537.899305   1425.132220    499.488007       3.871437   \n",
       "std        421.425970   1133.277418    382.326831       1.899432   \n",
       "min          1.000000      3.000000      1.000000       0.499900   \n",
       "25%        296.000000    788.000000    280.000000       2.563400   \n",
       "50%        435.000000   1166.000000    409.000000       3.537500   \n",
       "75%        647.000000   1723.000000    604.000000       4.744075   \n",
       "max       6445.000000  35682.000000   6082.000000      15.000100   \n",
       "\n",
       "       median_house_value  \n",
       "count        20428.000000  \n",
       "mean        206821.928432  \n",
       "std         115412.337452  \n",
       "min          14999.000000  \n",
       "25%         119475.000000  \n",
       "50%         179700.000000  \n",
       "75%         264700.000000  \n",
       "max         500001.000000  "
      ]
     },
     "execution_count": 4,
     "metadata": {},
     "output_type": "execute_result"
    }
   ],
   "source": [
    "# Delete missing values\n",
    "housing.dropna(axis=0, inplace=True)\n",
    "# Reset Index\n",
    "housing.reset_index(inplace=True, drop=True)\n",
    "housing.describe()"
   ]
  },
  {
   "cell_type": "markdown",
   "metadata": {},
   "source": [
    "## Exploratory Analysis"
   ]
  },
  {
   "cell_type": "code",
   "execution_count": 5,
   "metadata": {
    "scrolled": true
   },
   "outputs": [
    {
     "data": {
      "text/plain": [
       "<1H OCEAN     9034\n",
       "INLAND        6496\n",
       "NEAR OCEAN    2628\n",
       "NEAR BAY      2270\n",
       "Name: ocean_proximity, dtype: int64"
      ]
     },
     "execution_count": 5,
     "metadata": {},
     "output_type": "execute_result"
    }
   ],
   "source": [
    "housing['ocean_proximity'].value_counts()"
   ]
  },
  {
   "cell_type": "markdown",
   "metadata": {},
   "source": [
    "The target column ocean_proximity(district) has 4 different classes."
   ]
  },
  {
   "cell_type": "code",
   "execution_count": 6,
   "metadata": {},
   "outputs": [
    {
     "data": {
      "image/png": "[encoded data removed]",
      "text/plain": [
       "<Figure size 720x504 with 1 Axes>"
      ]
     },
     "metadata": {
      "needs_background": "light"
     },
     "output_type": "display_data"
    }
   ],
   "source": [
    "housing['ocean_proximity'].value_counts().sort_values().plot(kind='bar',figsize=(10,7))\n",
    "plt.title(\"Ocean Proximity Distribution\")\n",
    "plt.show()"
   ]
  },
  {
   "cell_type": "code",
   "execution_count": 7,
   "metadata": {},
   "outputs": [
    {
     "data": {
      "image/png": "[encoded data removed]",
      "text/plain": [
       "<Figure size 1440x1080 with 9 Axes>"
      ]
     },
     "metadata": {
      "needs_background": "light"
     },
     "output_type": "display_data"
    }
   ],
   "source": [
    "housing.hist(bins=50,figsize=(20,15))\n",
    "plt.show()"
   ]
  },
  {
   "cell_type": "markdown",
   "metadata": {},
   "source": [
    "# Transform variable(s)\n",
    "\n",
    "Transform at least one variable. For example, you can transform an existing variable (such as using a log transformation), or create a new variable from two existing variables."
   ]
  },
  {
   "cell_type": "markdown",
   "metadata": {},
   "source": [
    "__The values given in the columns total bedrooms, total rooms and total population is for entire district. These values calculated for each household will have more significance in predicting the ocean proximity. So I have created the below 3 variables.__"
   ]
  },
  {
   "cell_type": "code",
   "execution_count": 8,
   "metadata": {},
   "outputs": [],
   "source": [
    "housing['rooms_household'] = housing['total_rooms']/housing['households']\n",
    "housing['bedrooms'] = housing['total_bedrooms']/housing['total_rooms']\n",
    "housing['population_household'] = housing['population']/housing['households']"
   ]
  },
  {
   "cell_type": "code",
   "execution_count": 9,
   "metadata": {},
   "outputs": [
    {
     "data": {
      "text/plain": [
       "Index(['longitude', 'latitude', 'housing_median_age', 'total_rooms',\n",
       "       'total_bedrooms', 'population', 'households', 'median_income',\n",
       "       'median_house_value', 'ocean_proximity', 'rooms_household', 'bedrooms',\n",
       "       'population_household'],\n",
       "      dtype='object')"
      ]
     },
     "execution_count": 9,
     "metadata": {},
     "output_type": "execute_result"
    }
   ],
   "source": [
    "housing.columns"
   ]
  },
  {
   "cell_type": "markdown",
   "metadata": {},
   "source": [
    "### Prepare test and train data"
   ]
  },
  {
   "cell_type": "code",
   "execution_count": 10,
   "metadata": {},
   "outputs": [],
   "source": [
    "#Set the training and test data sets\n",
    "housing_X = housing.drop([\"ocean_proximity\",\"total_bedrooms\",\"total_rooms\",\"population\"], axis=1) # drop labels \n",
    "\n",
    "housing_y = housing[\"ocean_proximity\"]\n",
    "# Ordinal Encoder requires a 2-D array so we created a dataframe of target \n",
    "# Dataframe --> numpy array -->\n",
    "housing_y_nn = housing[[\"ocean_proximity\"]]"
   ]
  },
  {
   "cell_type": "markdown",
   "metadata": {},
   "source": [
    "Since training data has transformed variables of rooms, bedrooms and population the variables total_bedrooms, total_rooms and population are removed from the dataset."
   ]
  },
  {
   "cell_type": "code",
   "execution_count": 11,
   "metadata": {},
   "outputs": [
    {
     "data": {
      "text/plain": [
       "Index(['longitude', 'latitude', 'housing_median_age', 'households',\n",
       "       'median_income', 'median_house_value', 'rooms_household', 'bedrooms',\n",
       "       'population_household'],\n",
       "      dtype='object')"
      ]
     },
     "execution_count": 11,
     "metadata": {},
     "output_type": "execute_result"
    }
   ],
   "source": [
    "housing_X.columns"
   ]
  },
  {
   "cell_type": "markdown",
   "metadata": {},
   "source": [
    "### Standardise the numerical columns"
   ]
  },
  {
   "cell_type": "markdown",
   "metadata": {},
   "source": [
    "__For neural networks it is important that all features be on the same scale. So I have standardised numerical features.__"
   ]
  },
  {
   "cell_type": "code",
   "execution_count": 12,
   "metadata": {},
   "outputs": [],
   "source": [
    "# Standardise the numerical data\n",
    "from sklearn.preprocessing import StandardScaler\n",
    "scaler = StandardScaler()\n",
    "housing_X_std = scaler.fit_transform(housing_X)"
   ]
  },
  {
   "cell_type": "markdown",
   "metadata": {},
   "source": [
    "### Encode the target variable"
   ]
  },
  {
   "cell_type": "markdown",
   "metadata": {},
   "source": [
    "__Ordinal encoding maps each unique label to an integer value.The function encode_target will convert the output variable ocean_proximity to numeric format.__"
   ]
  },
  {
   "cell_type": "code",
   "execution_count": 13,
   "metadata": {},
   "outputs": [],
   "source": [
    "# Encoding the target variable\n",
    "from sklearn.preprocessing import OrdinalEncoder\n",
    "def encode_target(y_train, y_test):\n",
    "    ordinal_encoder = OrdinalEncoder()\n",
    "    ordinal_encoder.fit(y_train)\n",
    "    y_train_encoded = ordinal_encoder.transform(y_train)\n",
    "    y_test_encoded = ordinal_encoder.transform(y_test)\n",
    "    y_train_new = y_train_encoded.astype(int)\n",
    "    y_test_new = y_test_encoded.astype(int)\n",
    "    return y_train_new, y_test_new"
   ]
  },
  {
   "cell_type": "markdown",
   "metadata": {},
   "source": [
    "# DNNClassifier model\n",
    "\n",
    "Use Tensorflow's DNNClassifier to predict the target variable. You can try deep networks."
   ]
  },
  {
   "cell_type": "code",
   "execution_count": 14,
   "metadata": {},
   "outputs": [],
   "source": [
    "import tensorflow as tf"
   ]
  },
  {
   "cell_type": "code",
   "execution_count": 15,
   "metadata": {},
   "outputs": [],
   "source": [
    "from sklearn.model_selection import train_test_split\n",
    "# Split the data in to 70:30 for train and test\n",
    "X_train, X_test, y_train, y_test = train_test_split(housing_X_std, housing_y_nn,random_state=42, test_size=0.3)"
   ]
  },
  {
   "cell_type": "markdown",
   "metadata": {},
   "source": [
    "### Prepare the data for the model"
   ]
  },
  {
   "cell_type": "markdown",
   "metadata": {},
   "source": [
    "Call the function encode_target to encode the target variable, ocean proximity. The encoded data is again converted to one-dimensional array."
   ]
  },
  {
   "cell_type": "code",
   "execution_count": 16,
   "metadata": {},
   "outputs": [],
   "source": [
    "y_train_enc,y_test_enc = encode_target(y_train,y_test)"
   ]
  },
  {
   "cell_type": "code",
   "execution_count": 17,
   "metadata": {},
   "outputs": [],
   "source": [
    "#Convert the encoded target data in to a 1-D array using ravel\n",
    "y_train_1D = np.ravel(y_train_enc)\n",
    "y_test_1D = np.ravel(y_test_enc)\n",
    "# convert the X_train and X_test to dataframes\n",
    "X_train_df = pd.DataFrame(X_train, columns=housing_X.columns)\n",
    "X_test_df = pd.DataFrame(X_test, columns=housing_X.columns)"
   ]
  },
  {
   "cell_type": "markdown",
   "metadata": {},
   "source": [
    "#### __Converting all the numeric columns to dense tensors.__"
   ]
  },
  {
   "cell_type": "code",
   "execution_count": 18,
   "metadata": {},
   "outputs": [],
   "source": [
    "feat_columns = [tf.feature_column.numeric_column(key = column) for column in housing_X.columns]"
   ]
  },
  {
   "cell_type": "code",
   "execution_count": 19,
   "metadata": {},
   "outputs": [
    {
     "data": {
      "text/plain": [
       "[NumericColumn(key='longitude', shape=(1,), default_value=None, dtype=tf.float32, normalizer_fn=None),\n",
       " NumericColumn(key='latitude', shape=(1,), default_value=None, dtype=tf.float32, normalizer_fn=None),\n",
       " NumericColumn(key='housing_median_age', shape=(1,), default_value=None, dtype=tf.float32, normalizer_fn=None),\n",
       " NumericColumn(key='households', shape=(1,), default_value=None, dtype=tf.float32, normalizer_fn=None),\n",
       " NumericColumn(key='median_income', shape=(1,), default_value=None, dtype=tf.float32, normalizer_fn=None),\n",
       " NumericColumn(key='median_house_value', shape=(1,), default_value=None, dtype=tf.float32, normalizer_fn=None),\n",
       " NumericColumn(key='rooms_household', shape=(1,), default_value=None, dtype=tf.float32, normalizer_fn=None),\n",
       " NumericColumn(key='bedrooms', shape=(1,), default_value=None, dtype=tf.float32, normalizer_fn=None),\n",
       " NumericColumn(key='population_household', shape=(1,), default_value=None, dtype=tf.float32, normalizer_fn=None)]"
      ]
     },
     "execution_count": 19,
     "metadata": {},
     "output_type": "execute_result"
    }
   ],
   "source": [
    "feat_columns"
   ]
  },
  {
   "cell_type": "markdown",
   "metadata": {},
   "source": [
    "### __Input function for training and evaluation__\n",
    "<br>\n",
    "        To create the input function we will have to convert the inputs to dataset.\n",
    "        Evaluate input function uses train data and validation input function uses the test data."
   ]
  },
  {
   "cell_type": "code",
   "execution_count": 20,
   "metadata": {},
   "outputs": [],
   "source": [
    "#Read data from tensor into memory\n",
    "\n",
    "def training_input_fn ():\n",
    "    dataset = tf.data.Dataset.from_tensor_slices((dict(X_train_df), y_train_1D))\n",
    "    dataset = dataset.shuffle(500).repeat().batch(100)\n",
    "    dataset_iterator = tf.compat.v1.data.make_one_shot_iterator(dataset)   \n",
    "    return dataset_iterator.get_next()\n",
    "\n",
    "# create testing input function\n",
    "def valid_input_fn ():\n",
    "    dataset = tf.data.Dataset.from_tensor_slices((dict(X_test_df), y_test_1D))\n",
    "    dataset = dataset.batch(100)\n",
    "    dataset_iterator = tf.compat.v1.data.make_one_shot_iterator(dataset)\n",
    "    return dataset_iterator.get_next()"
   ]
  },
  {
   "cell_type": "markdown",
   "metadata": {},
   "source": [
    "DNN classifier is created with 3 hidden layers. First layer with 50 units, second with 25 units and last layer with 10 units. With adam optimizer and activation function elu."
   ]
  },
  {
   "cell_type": "markdown",
   "metadata": {},
   "source": [
    "### Define the model"
   ]
  },
  {
   "cell_type": "code",
   "execution_count": 21,
   "metadata": {
    "scrolled": true
   },
   "outputs": [
    {
     "name": "stdout",
     "output_type": "stream",
     "text": [
      "INFO:tensorflow:Using default config.\n",
      "WARNING:tensorflow:Using temporary folder as model directory: /var/folders/p1/x5tn1wf944s0t3kd0c3p8l8m0000gp/T/tmphc5scqvf\n",
      "INFO:tensorflow:Using config: {'_model_dir': '/var/folders/p1/x5tn1wf944s0t3kd0c3p8l8m0000gp/T/tmphc5scqvf', '_tf_random_seed': None, '_save_summary_steps': 100, '_save_checkpoints_steps': None, '_save_checkpoints_secs': 600, '_session_config': allow_soft_placement: true\n",
      "graph_options {\n",
      "  rewrite_options {\n",
      "    meta_optimizer_iterations: ONE\n",
      "  }\n",
      "}\n",
      ", '_keep_checkpoint_max': 5, '_keep_checkpoint_every_n_hours': 10000, '_log_step_count_steps': 100, '_train_distribute': None, '_device_fn': None, '_protocol': None, '_eval_distribute': None, '_experimental_distribute': None, '_experimental_max_worker_delay_secs': None, '_session_creation_timeout_secs': 7200, '_service': None, '_cluster_spec': ClusterSpec({}), '_task_type': 'worker', '_task_id': 0, '_global_id_in_cluster': 0, '_master': '', '_evaluation_master': '', '_is_chief': True, '_num_ps_replicas': 0, '_num_worker_replicas': 1}\n"
     ]
    }
   ],
   "source": [
    "adam= tf.keras.optimizers.SGD(learning_rate = 0.1)\n",
    "#AdamOptimizer(learning_rate=0.01)\n",
    "dnn_clf = tf.estimator.DNNClassifier(hidden_units = [50, 25, 10], \n",
    "                                     n_classes = 4, \n",
    "                                     feature_columns = feat_columns,\n",
    "                                     optimizer = adam,\n",
    "                                     activation_fn = tf.nn.elu) "
   ]
  },
  {
   "cell_type": "markdown",
   "metadata": {},
   "source": [
    "### __Train the model__"
   ]
  },
  {
   "cell_type": "code",
   "execution_count": 22,
   "metadata": {},
   "outputs": [
    {
     "name": "stdout",
     "output_type": "stream",
     "text": [
      "WARNING:tensorflow:From /opt/anaconda3/lib/python3.7/site-packages/tensorflow/python/ops/resource_variable_ops.py:1666: calling BaseResourceVariable.__init__ (from tensorflow.python.ops.resource_variable_ops) with constraint is deprecated and will be removed in a future version.\n",
      "Instructions for updating:\n",
      "If using Keras pass *_constraint arguments to layers.\n",
      "WARNING:tensorflow:From /opt/anaconda3/lib/python3.7/site-packages/tensorflow/python/training/training_util.py:236: Variable.initialized_value (from tensorflow.python.ops.variables) is deprecated and will be removed in a future version.\n",
      "Instructions for updating:\n",
      "Use Variable.read_value. Variables in 2.X are initialized automatically both in eager and graph (inside tf.defun) contexts.\n",
      "INFO:tensorflow:Calling model_fn.\n",
      "WARNING:tensorflow:Layer dnn is casting an input tensor from dtype float64 to the layer's dtype of float32, which is new behavior in TensorFlow 2.  The layer has dtype float32 because it's dtype defaults to floatx.\n",
      "\n",
      "If you intended to run this layer in float32, you can safely ignore this warning. If in doubt, this warning is likely only an issue if you are porting a TensorFlow 1.X model to TensorFlow 2.\n",
      "\n",
      "To change all layers to have dtype float64 by default, call `tf.keras.backend.set_floatx('float64')`. To change just this layer, pass dtype='float64' to the layer constructor. If you are the author of this layer, you can disable autocasting by passing autocast=False to the base Layer constructor.\n",
      "\n",
      "INFO:tensorflow:Done calling model_fn.\n",
      "INFO:tensorflow:Create CheckpointSaverHook.\n",
      "INFO:tensorflow:Graph was finalized.\n",
      "INFO:tensorflow:Running local_init_op.\n",
      "INFO:tensorflow:Done running local_init_op.\n",
      "INFO:tensorflow:Calling checkpoint listeners before saving checkpoint 0...\n",
      "INFO:tensorflow:Saving checkpoints for 0 into /var/folders/p1/x5tn1wf944s0t3kd0c3p8l8m0000gp/T/tmphc5scqvf/model.ckpt.\n",
      "INFO:tensorflow:Calling checkpoint listeners after saving checkpoint 0...\n",
      "INFO:tensorflow:loss = 1.4735696, step = 0\n",
      "INFO:tensorflow:global_step/sec: 485.913\n",
      "INFO:tensorflow:loss = 0.70567465, step = 100 (0.206 sec)\n",
      "INFO:tensorflow:global_step/sec: 852.392\n",
      "INFO:tensorflow:loss = 0.5595493, step = 200 (0.117 sec)\n",
      "INFO:tensorflow:global_step/sec: 854.752\n",
      "INFO:tensorflow:loss = 0.46599537, step = 300 (0.117 sec)\n",
      "INFO:tensorflow:global_step/sec: 846.467\n",
      "INFO:tensorflow:loss = 0.41513005, step = 400 (0.118 sec)\n",
      "INFO:tensorflow:global_step/sec: 863.482\n",
      "INFO:tensorflow:loss = 0.35495403, step = 500 (0.116 sec)\n",
      "INFO:tensorflow:global_step/sec: 852.801\n",
      "INFO:tensorflow:loss = 0.3878498, step = 600 (0.117 sec)\n",
      "INFO:tensorflow:global_step/sec: 846.481\n",
      "INFO:tensorflow:loss = 0.49120438, step = 700 (0.118 sec)\n",
      "INFO:tensorflow:global_step/sec: 835.925\n",
      "INFO:tensorflow:loss = 0.39850232, step = 800 (0.121 sec)\n",
      "INFO:tensorflow:global_step/sec: 756.602\n",
      "INFO:tensorflow:loss = 0.24893446, step = 900 (0.131 sec)\n",
      "INFO:tensorflow:global_step/sec: 859.977\n",
      "INFO:tensorflow:loss = 0.34622878, step = 1000 (0.116 sec)\n",
      "INFO:tensorflow:global_step/sec: 819.142\n",
      "INFO:tensorflow:loss = 0.29455283, step = 1100 (0.122 sec)\n",
      "INFO:tensorflow:global_step/sec: 845.351\n",
      "INFO:tensorflow:loss = 0.3360439, step = 1200 (0.118 sec)\n",
      "INFO:tensorflow:global_step/sec: 856.956\n",
      "INFO:tensorflow:loss = 0.3604618, step = 1300 (0.117 sec)\n",
      "INFO:tensorflow:global_step/sec: 856.942\n",
      "INFO:tensorflow:loss = 0.323561, step = 1400 (0.117 sec)\n",
      "INFO:tensorflow:global_step/sec: 851.971\n",
      "INFO:tensorflow:loss = 0.28500995, step = 1500 (0.117 sec)\n",
      "INFO:tensorflow:global_step/sec: 862.537\n",
      "INFO:tensorflow:loss = 0.2590575, step = 1600 (0.116 sec)\n",
      "INFO:tensorflow:global_step/sec: 853.724\n",
      "INFO:tensorflow:loss = 0.35517907, step = 1700 (0.117 sec)\n",
      "INFO:tensorflow:global_step/sec: 862.686\n",
      "INFO:tensorflow:loss = 0.20566504, step = 1800 (0.116 sec)\n",
      "INFO:tensorflow:global_step/sec: 854.794\n",
      "INFO:tensorflow:loss = 0.20970722, step = 1900 (0.117 sec)\n",
      "INFO:tensorflow:global_step/sec: 851.333\n",
      "INFO:tensorflow:loss = 0.2866573, step = 2000 (0.118 sec)\n",
      "INFO:tensorflow:global_step/sec: 890.146\n",
      "INFO:tensorflow:loss = 0.3185975, step = 2100 (0.112 sec)\n",
      "INFO:tensorflow:global_step/sec: 853.396\n",
      "INFO:tensorflow:loss = 0.15490305, step = 2200 (0.117 sec)\n",
      "INFO:tensorflow:global_step/sec: 845.767\n",
      "INFO:tensorflow:loss = 0.2895936, step = 2300 (0.118 sec)\n",
      "INFO:tensorflow:global_step/sec: 859.453\n",
      "INFO:tensorflow:loss = 0.4017914, step = 2400 (0.116 sec)\n",
      "INFO:tensorflow:global_step/sec: 861.029\n",
      "INFO:tensorflow:loss = 0.28769788, step = 2500 (0.116 sec)\n",
      "INFO:tensorflow:global_step/sec: 852.485\n",
      "INFO:tensorflow:loss = 0.45740867, step = 2600 (0.117 sec)\n",
      "INFO:tensorflow:global_step/sec: 856.73\n",
      "INFO:tensorflow:loss = 0.1650123, step = 2700 (0.117 sec)\n",
      "INFO:tensorflow:global_step/sec: 849.741\n",
      "INFO:tensorflow:loss = 0.2600804, step = 2800 (0.118 sec)\n",
      "INFO:tensorflow:global_step/sec: 850.368\n",
      "INFO:tensorflow:loss = 0.2822417, step = 2900 (0.118 sec)\n",
      "INFO:tensorflow:global_step/sec: 855.937\n",
      "INFO:tensorflow:loss = 0.20949164, step = 3000 (0.117 sec)\n",
      "INFO:tensorflow:global_step/sec: 841.893\n",
      "INFO:tensorflow:loss = 0.19417381, step = 3100 (0.119 sec)\n",
      "INFO:tensorflow:global_step/sec: 765.105\n",
      "INFO:tensorflow:loss = 0.15459837, step = 3200 (0.131 sec)\n",
      "INFO:tensorflow:global_step/sec: 780.767\n",
      "INFO:tensorflow:loss = 0.2538968, step = 3300 (0.128 sec)\n",
      "INFO:tensorflow:global_step/sec: 812.539\n",
      "INFO:tensorflow:loss = 0.3625151, step = 3400 (0.123 sec)\n",
      "INFO:tensorflow:global_step/sec: 822.525\n",
      "INFO:tensorflow:loss = 0.25504363, step = 3500 (0.122 sec)\n",
      "INFO:tensorflow:global_step/sec: 838.11\n",
      "INFO:tensorflow:loss = 0.20638208, step = 3600 (0.119 sec)\n",
      "INFO:tensorflow:global_step/sec: 855.476\n",
      "INFO:tensorflow:loss = 0.17976162, step = 3700 (0.117 sec)\n",
      "INFO:tensorflow:global_step/sec: 840.754\n",
      "INFO:tensorflow:loss = 0.23247726, step = 3800 (0.119 sec)\n",
      "INFO:tensorflow:global_step/sec: 860.859\n",
      "INFO:tensorflow:loss = 0.2862452, step = 3900 (0.116 sec)\n",
      "INFO:tensorflow:global_step/sec: 851.461\n",
      "INFO:tensorflow:loss = 0.23098849, step = 4000 (0.117 sec)\n",
      "INFO:tensorflow:global_step/sec: 857.142\n",
      "INFO:tensorflow:loss = 0.24371092, step = 4100 (0.117 sec)\n",
      "INFO:tensorflow:global_step/sec: 855.322\n",
      "INFO:tensorflow:loss = 0.17774533, step = 4200 (0.117 sec)\n",
      "INFO:tensorflow:global_step/sec: 860.428\n",
      "INFO:tensorflow:loss = 0.20811354, step = 4300 (0.116 sec)\n",
      "INFO:tensorflow:global_step/sec: 858.672\n",
      "INFO:tensorflow:loss = 0.2435031, step = 4400 (0.116 sec)\n",
      "INFO:tensorflow:global_step/sec: 857.552\n",
      "INFO:tensorflow:loss = 0.19105801, step = 4500 (0.117 sec)\n",
      "INFO:tensorflow:global_step/sec: 857.221\n",
      "INFO:tensorflow:loss = 0.21790543, step = 4600 (0.117 sec)\n",
      "INFO:tensorflow:global_step/sec: 858.737\n",
      "INFO:tensorflow:loss = 0.23413129, step = 4700 (0.116 sec)\n",
      "INFO:tensorflow:global_step/sec: 835.758\n",
      "INFO:tensorflow:loss = 0.21092172, step = 4800 (0.120 sec)\n",
      "INFO:tensorflow:global_step/sec: 744.336\n",
      "INFO:tensorflow:loss = 0.16993879, step = 4900 (0.135 sec)\n",
      "INFO:tensorflow:global_step/sec: 640.557\n",
      "INFO:tensorflow:loss = 0.3521787, step = 5000 (0.156 sec)\n",
      "INFO:tensorflow:global_step/sec: 644.954\n",
      "INFO:tensorflow:loss = 0.15810737, step = 5100 (0.155 sec)\n",
      "INFO:tensorflow:global_step/sec: 644.573\n",
      "INFO:tensorflow:loss = 0.2533305, step = 5200 (0.155 sec)\n",
      "INFO:tensorflow:global_step/sec: 634.784\n",
      "INFO:tensorflow:loss = 0.16512312, step = 5300 (0.157 sec)\n",
      "INFO:tensorflow:global_step/sec: 666.569\n",
      "INFO:tensorflow:loss = 0.18790774, step = 5400 (0.150 sec)\n",
      "INFO:tensorflow:global_step/sec: 822.992\n",
      "INFO:tensorflow:loss = 0.16518293, step = 5500 (0.121 sec)\n",
      "INFO:tensorflow:global_step/sec: 838.068\n",
      "INFO:tensorflow:loss = 0.1016061, step = 5600 (0.119 sec)\n",
      "INFO:tensorflow:global_step/sec: 714.205\n",
      "INFO:tensorflow:loss = 0.19295126, step = 5700 (0.141 sec)\n",
      "INFO:tensorflow:global_step/sec: 625.175\n",
      "INFO:tensorflow:loss = 0.18908514, step = 5800 (0.160 sec)\n",
      "INFO:tensorflow:global_step/sec: 749.641\n",
      "INFO:tensorflow:loss = 0.2338416, step = 5900 (0.133 sec)\n",
      "INFO:tensorflow:global_step/sec: 841.922\n",
      "INFO:tensorflow:loss = 0.26727742, step = 6000 (0.119 sec)\n",
      "INFO:tensorflow:global_step/sec: 833.063\n",
      "INFO:tensorflow:loss = 0.14435166, step = 6100 (0.120 sec)\n",
      "INFO:tensorflow:global_step/sec: 841.149\n",
      "INFO:tensorflow:loss = 0.20790762, step = 6200 (0.119 sec)\n",
      "INFO:tensorflow:global_step/sec: 884.175\n"
     ]
    },
    {
     "name": "stdout",
     "output_type": "stream",
     "text": [
      "INFO:tensorflow:loss = 0.14820005, step = 6300 (0.113 sec)\n",
      "INFO:tensorflow:global_step/sec: 791.326\n",
      "INFO:tensorflow:loss = 0.22702093, step = 6400 (0.126 sec)\n",
      "INFO:tensorflow:global_step/sec: 806.844\n",
      "INFO:tensorflow:loss = 0.18421365, step = 6500 (0.124 sec)\n",
      "INFO:tensorflow:global_step/sec: 721.261\n",
      "INFO:tensorflow:loss = 0.15059952, step = 6600 (0.139 sec)\n",
      "INFO:tensorflow:global_step/sec: 731.834\n",
      "INFO:tensorflow:loss = 0.19851229, step = 6700 (0.137 sec)\n",
      "INFO:tensorflow:global_step/sec: 773.078\n",
      "INFO:tensorflow:loss = 0.16240458, step = 6800 (0.129 sec)\n",
      "INFO:tensorflow:global_step/sec: 768.675\n",
      "INFO:tensorflow:loss = 0.26744363, step = 6900 (0.130 sec)\n",
      "INFO:tensorflow:global_step/sec: 760.207\n",
      "INFO:tensorflow:loss = 0.1809246, step = 7000 (0.132 sec)\n",
      "INFO:tensorflow:global_step/sec: 829.717\n",
      "INFO:tensorflow:loss = 0.20789063, step = 7100 (0.120 sec)\n",
      "INFO:tensorflow:global_step/sec: 843.037\n",
      "INFO:tensorflow:loss = 0.22346632, step = 7200 (0.119 sec)\n",
      "INFO:tensorflow:global_step/sec: 901.939\n",
      "INFO:tensorflow:loss = 0.16871028, step = 7300 (0.111 sec)\n",
      "INFO:tensorflow:global_step/sec: 861.906\n",
      "INFO:tensorflow:loss = 0.14941992, step = 7400 (0.116 sec)\n",
      "INFO:tensorflow:global_step/sec: 836.273\n",
      "INFO:tensorflow:loss = 0.21114528, step = 7500 (0.120 sec)\n",
      "INFO:tensorflow:global_step/sec: 838.371\n",
      "INFO:tensorflow:loss = 0.21307911, step = 7600 (0.119 sec)\n",
      "INFO:tensorflow:global_step/sec: 752.649\n",
      "INFO:tensorflow:loss = 0.20809227, step = 7700 (0.133 sec)\n",
      "INFO:tensorflow:global_step/sec: 703.577\n",
      "INFO:tensorflow:loss = 0.1983251, step = 7800 (0.142 sec)\n",
      "INFO:tensorflow:global_step/sec: 743.233\n",
      "INFO:tensorflow:loss = 0.13410434, step = 7900 (0.134 sec)\n",
      "INFO:tensorflow:global_step/sec: 699.848\n",
      "INFO:tensorflow:loss = 0.21877931, step = 8000 (0.143 sec)\n",
      "INFO:tensorflow:global_step/sec: 743.219\n",
      "INFO:tensorflow:loss = 0.17869309, step = 8100 (0.134 sec)\n",
      "INFO:tensorflow:global_step/sec: 844.837\n",
      "INFO:tensorflow:loss = 0.18099956, step = 8200 (0.119 sec)\n",
      "INFO:tensorflow:global_step/sec: 710.379\n",
      "INFO:tensorflow:loss = 0.17863716, step = 8300 (0.141 sec)\n",
      "INFO:tensorflow:global_step/sec: 778.222\n",
      "INFO:tensorflow:loss = 0.20521955, step = 8400 (0.128 sec)\n",
      "INFO:tensorflow:global_step/sec: 766.776\n",
      "INFO:tensorflow:loss = 0.20423202, step = 8500 (0.130 sec)\n",
      "INFO:tensorflow:global_step/sec: 759.783\n",
      "INFO:tensorflow:loss = 0.2066451, step = 8600 (0.132 sec)\n",
      "INFO:tensorflow:global_step/sec: 795.753\n",
      "INFO:tensorflow:loss = 0.10690342, step = 8700 (0.126 sec)\n",
      "INFO:tensorflow:global_step/sec: 795.906\n",
      "INFO:tensorflow:loss = 0.1437266, step = 8800 (0.126 sec)\n",
      "INFO:tensorflow:global_step/sec: 656.323\n",
      "INFO:tensorflow:loss = 0.12187024, step = 8900 (0.152 sec)\n",
      "INFO:tensorflow:global_step/sec: 678.031\n",
      "INFO:tensorflow:loss = 0.24459076, step = 9000 (0.147 sec)\n",
      "INFO:tensorflow:global_step/sec: 700.549\n",
      "INFO:tensorflow:loss = 0.14965022, step = 9100 (0.143 sec)\n",
      "INFO:tensorflow:global_step/sec: 785.171\n",
      "INFO:tensorflow:loss = 0.18949373, step = 9200 (0.128 sec)\n",
      "INFO:tensorflow:global_step/sec: 666.956\n",
      "INFO:tensorflow:loss = 0.11915663, step = 9300 (0.150 sec)\n",
      "INFO:tensorflow:global_step/sec: 699.193\n",
      "INFO:tensorflow:loss = 0.12928873, step = 9400 (0.143 sec)\n",
      "INFO:tensorflow:global_step/sec: 695.313\n",
      "INFO:tensorflow:loss = 0.14196889, step = 9500 (0.144 sec)\n",
      "INFO:tensorflow:global_step/sec: 676.736\n",
      "INFO:tensorflow:loss = 0.20072924, step = 9600 (0.147 sec)\n",
      "INFO:tensorflow:global_step/sec: 651.11\n",
      "INFO:tensorflow:loss = 0.18290772, step = 9700 (0.154 sec)\n",
      "INFO:tensorflow:global_step/sec: 720.476\n",
      "INFO:tensorflow:loss = 0.14643331, step = 9800 (0.139 sec)\n",
      "INFO:tensorflow:global_step/sec: 725.846\n",
      "INFO:tensorflow:loss = 0.12864111, step = 9900 (0.138 sec)\n",
      "INFO:tensorflow:Calling checkpoint listeners before saving checkpoint 10000...\n",
      "INFO:tensorflow:Saving checkpoints for 10000 into /var/folders/p1/x5tn1wf944s0t3kd0c3p8l8m0000gp/T/tmphc5scqvf/model.ckpt.\n",
      "INFO:tensorflow:Calling checkpoint listeners after saving checkpoint 10000...\n",
      "INFO:tensorflow:Loss for final step: 0.15456693.\n"
     ]
    },
    {
     "data": {
      "text/plain": [
       "<tensorflow_estimator.python.estimator.canned.dnn.DNNClassifierV2 at 0x7fbe90d19e10>"
      ]
     },
     "execution_count": 22,
     "metadata": {},
     "output_type": "execute_result"
    }
   ],
   "source": [
    "dnn_clf.train(input_fn = lambda:training_input_fn(),steps=10000)"
   ]
  },
  {
   "cell_type": "code",
   "execution_count": 23,
   "metadata": {
    "scrolled": true
   },
   "outputs": [
    {
     "name": "stdout",
     "output_type": "stream",
     "text": [
      "INFO:tensorflow:Calling model_fn.\n",
      "WARNING:tensorflow:Layer dnn is casting an input tensor from dtype float64 to the layer's dtype of float32, which is new behavior in TensorFlow 2.  The layer has dtype float32 because it's dtype defaults to floatx.\n",
      "\n",
      "If you intended to run this layer in float32, you can safely ignore this warning. If in doubt, this warning is likely only an issue if you are porting a TensorFlow 1.X model to TensorFlow 2.\n",
      "\n",
      "To change all layers to have dtype float64 by default, call `tf.keras.backend.set_floatx('float64')`. To change just this layer, pass dtype='float64' to the layer constructor. If you are the author of this layer, you can disable autocasting by passing autocast=False to the base Layer constructor.\n",
      "\n",
      "INFO:tensorflow:Done calling model_fn.\n",
      "INFO:tensorflow:Graph was finalized.\n",
      "INFO:tensorflow:Restoring parameters from /var/folders/p1/x5tn1wf944s0t3kd0c3p8l8m0000gp/T/tmphc5scqvf/model.ckpt-10000\n",
      "INFO:tensorflow:Running local_init_op.\n",
      "INFO:tensorflow:Done running local_init_op.\n"
     ]
    }
   ],
   "source": [
    "y_train_pred = list(dnn_clf.predict(input_fn = valid_input_fn))"
   ]
  },
  {
   "cell_type": "code",
   "execution_count": 24,
   "metadata": {},
   "outputs": [],
   "source": [
    "predictions = [p['class_ids'][0] for p in y_train_pred]"
   ]
  },
  {
   "cell_type": "code",
   "execution_count": 25,
   "metadata": {},
   "outputs": [
    {
     "data": {
      "text/plain": [
       "([1, 0, 1, 1, 0, 1, 0, 1, 0, 2], array([1, 0, 1, 1, 0, 1, 0, 1, 0, 2]))"
      ]
     },
     "execution_count": 25,
     "metadata": {},
     "output_type": "execute_result"
    }
   ],
   "source": [
    "list(predictions[:10]), y_test_1D[:10]"
   ]
  },
  {
   "cell_type": "markdown",
   "metadata": {},
   "source": [
    "### __Evaluate the Model__"
   ]
  },
  {
   "cell_type": "code",
   "execution_count": 26,
   "metadata": {},
   "outputs": [
    {
     "name": "stdout",
     "output_type": "stream",
     "text": [
      "INFO:tensorflow:Calling model_fn.\n",
      "WARNING:tensorflow:Layer dnn is casting an input tensor from dtype float64 to the layer's dtype of float32, which is new behavior in TensorFlow 2.  The layer has dtype float32 because it's dtype defaults to floatx.\n",
      "\n",
      "If you intended to run this layer in float32, you can safely ignore this warning. If in doubt, this warning is likely only an issue if you are porting a TensorFlow 1.X model to TensorFlow 2.\n",
      "\n",
      "To change all layers to have dtype float64 by default, call `tf.keras.backend.set_floatx('float64')`. To change just this layer, pass dtype='float64' to the layer constructor. If you are the author of this layer, you can disable autocasting by passing autocast=False to the base Layer constructor.\n",
      "\n",
      "INFO:tensorflow:Done calling model_fn.\n",
      "INFO:tensorflow:Starting evaluation at 2020-07-15T15:18:01Z\n",
      "INFO:tensorflow:Graph was finalized.\n",
      "INFO:tensorflow:Restoring parameters from /var/folders/p1/x5tn1wf944s0t3kd0c3p8l8m0000gp/T/tmphc5scqvf/model.ckpt-10000\n",
      "INFO:tensorflow:Running local_init_op.\n",
      "INFO:tensorflow:Done running local_init_op.\n",
      "INFO:tensorflow:Inference Time : 0.40346s\n",
      "INFO:tensorflow:Finished evaluation at 2020-07-15-15:18:02\n",
      "INFO:tensorflow:Saving dict for global step 10000: accuracy = 0.92967856, average_loss = 0.16544968, global_step = 10000, loss = 0.16423671\n",
      "INFO:tensorflow:Saving 'checkpoint_path' summary for global step 10000: /var/folders/p1/x5tn1wf944s0t3kd0c3p8l8m0000gp/T/tmphc5scqvf/model.ckpt-10000\n"
     ]
    },
    {
     "data": {
      "text/plain": [
       "{'accuracy': 0.92967856,\n",
       " 'average_loss': 0.16544968,\n",
       " 'loss': 0.16423671,\n",
       " 'global_step': 10000}"
      ]
     },
     "execution_count": 26,
     "metadata": {},
     "output_type": "execute_result"
    }
   ],
   "source": [
    "dnn_clf.evaluate(input_fn = lambda:valid_input_fn())"
   ]
  },
  {
   "cell_type": "markdown",
   "metadata": {},
   "source": [
    "# Keras DNN model\n",
    "\n",
    "Use Tensorflow's Keras library to predict the same target variable. "
   ]
  },
  {
   "cell_type": "code",
   "execution_count": 27,
   "metadata": {},
   "outputs": [],
   "source": [
    "# Importing Keras libraries\n",
    "import keras\n",
    "from tensorflow.keras.models import Sequential\n",
    "from tensorflow.keras.layers import Dense\n",
    "from tensorflow.keras.layers import Dropout"
   ]
  },
  {
   "cell_type": "markdown",
   "metadata": {},
   "source": [
    "### Prepare data for the model"
   ]
  },
  {
   "cell_type": "code",
   "execution_count": 28,
   "metadata": {},
   "outputs": [],
   "source": [
    "X_train, X_test, y_train, y_test = train_test_split(housing_X_std, housing_y_nn,random_state=42, test_size=0.3)"
   ]
  },
  {
   "cell_type": "markdown",
   "metadata": {},
   "source": [
    "__Keras requires all input and output variables in numeric format. Function encode_target will encode test and train datasets of the target data.__"
   ]
  },
  {
   "cell_type": "code",
   "execution_count": 29,
   "metadata": {},
   "outputs": [],
   "source": [
    "y_train_enc,y_test_enc = encode_target(y_train,y_test)"
   ]
  },
  {
   "cell_type": "markdown",
   "metadata": {},
   "source": [
    "### Define the model"
   ]
  },
  {
   "cell_type": "markdown",
   "metadata": {},
   "source": [
    "- output layer should have 4 nodes and the __activation function__ is softmax, to ensure that output values are in the range of 0-1. For the other layers Relu is tha activation function\n",
    "- The __loss function__ should be \"categorical_crossentropy\" for a multiclass classification, Here we have used 'sparse_categorical_crossentropy' as the target variable is ordinal.\n",
    "- The __optimizer__ function is sgd, Stochastic Gradient. This algorithm minimizes the loss function in the quickest way possible."
   ]
  },
  {
   "cell_type": "code",
   "execution_count": 30,
   "metadata": {},
   "outputs": [],
   "source": [
    "model = Sequential()\n",
    "model.add(Dense(50, input_dim=X_train.shape[1], activation='relu'))\n",
    "model.add(Dense(25, activation='relu'))\n",
    "model.add(Dense(10, activation='relu'))\n",
    "\n",
    "model.add(Dense(4, activation='softmax'))\n",
    "\n",
    "# Compile model\n",
    "sgd = keras.optimizers.SGD(lr=0.05)\n",
    "model.compile(loss='sparse_categorical_crossentropy', optimizer=sgd, metrics=['accuracy'])"
   ]
  },
  {
   "cell_type": "markdown",
   "metadata": {},
   "source": [
    "### Fit and evaluate the model"
   ]
  },
  {
   "cell_type": "code",
   "execution_count": 31,
   "metadata": {},
   "outputs": [
    {
     "name": "stdout",
     "output_type": "stream",
     "text": [
      "Epoch 1/100\n",
      "143/143 [==============================] - 0s 769us/step - loss: 0.9360 - accuracy: 0.6569\n",
      "Epoch 2/100\n",
      "143/143 [==============================] - 0s 654us/step - loss: 0.6586 - accuracy: 0.7596\n",
      "Epoch 3/100\n",
      "143/143 [==============================] - 0s 634us/step - loss: 0.5799 - accuracy: 0.7855\n",
      "Epoch 4/100\n",
      "143/143 [==============================] - 0s 647us/step - loss: 0.5295 - accuracy: 0.7947\n",
      "Epoch 5/100\n",
      "143/143 [==============================] - 0s 634us/step - loss: 0.4707 - accuracy: 0.8055\n",
      "Epoch 6/100\n",
      "143/143 [==============================] - 0s 633us/step - loss: 0.4102 - accuracy: 0.8345\n",
      "Epoch 7/100\n",
      "143/143 [==============================] - 0s 648us/step - loss: 0.3657 - accuracy: 0.8512\n",
      "Epoch 8/100\n",
      "143/143 [==============================] - 0s 640us/step - loss: 0.3496 - accuracy: 0.8557\n",
      "Epoch 9/100\n",
      "143/143 [==============================] - 0s 647us/step - loss: 0.3404 - accuracy: 0.8615\n",
      "Epoch 10/100\n",
      "143/143 [==============================] - 0s 632us/step - loss: 0.3302 - accuracy: 0.8624\n",
      "Epoch 11/100\n",
      "143/143 [==============================] - 0s 665us/step - loss: 0.3217 - accuracy: 0.8678\n",
      "Epoch 12/100\n",
      "143/143 [==============================] - 0s 633us/step - loss: 0.3103 - accuracy: 0.8715\n",
      "Epoch 13/100\n",
      "143/143 [==============================] - 0s 628us/step - loss: 0.3055 - accuracy: 0.8769\n",
      "Epoch 14/100\n",
      "143/143 [==============================] - 0s 633us/step - loss: 0.2972 - accuracy: 0.8750\n",
      "Epoch 15/100\n",
      "143/143 [==============================] - 0s 648us/step - loss: 0.2971 - accuracy: 0.8761\n",
      "Epoch 16/100\n",
      "143/143 [==============================] - 0s 653us/step - loss: 0.2886 - accuracy: 0.8792\n",
      "Epoch 17/100\n",
      "143/143 [==============================] - 0s 810us/step - loss: 0.2829 - accuracy: 0.8815\n",
      "Epoch 18/100\n",
      "143/143 [==============================] - 0s 889us/step - loss: 0.2822 - accuracy: 0.8832\n",
      "Epoch 19/100\n",
      "143/143 [==============================] - 0s 851us/step - loss: 0.2640 - accuracy: 0.8938\n",
      "Epoch 20/100\n",
      "143/143 [==============================] - 0s 840us/step - loss: 0.2620 - accuracy: 0.8926\n",
      "Epoch 21/100\n",
      "143/143 [==============================] - 0s 692us/step - loss: 0.2674 - accuracy: 0.8931\n",
      "Epoch 22/100\n",
      "143/143 [==============================] - 0s 646us/step - loss: 0.2661 - accuracy: 0.8922\n",
      "Epoch 23/100\n",
      "143/143 [==============================] - 0s 636us/step - loss: 0.2556 - accuracy: 0.8948\n",
      "Epoch 24/100\n",
      "143/143 [==============================] - 0s 640us/step - loss: 0.2557 - accuracy: 0.8953\n",
      "Epoch 25/100\n",
      "143/143 [==============================] - 0s 631us/step - loss: 0.2514 - accuracy: 0.8970\n",
      "Epoch 26/100\n",
      "143/143 [==============================] - 0s 652us/step - loss: 0.2493 - accuracy: 0.8987\n",
      "Epoch 27/100\n",
      "143/143 [==============================] - 0s 637us/step - loss: 0.2456 - accuracy: 0.8951\n",
      "Epoch 28/100\n",
      "143/143 [==============================] - 0s 659us/step - loss: 0.2422 - accuracy: 0.8988\n",
      "Epoch 29/100\n",
      "143/143 [==============================] - 0s 641us/step - loss: 0.2367 - accuracy: 0.9015\n",
      "Epoch 30/100\n",
      "143/143 [==============================] - 0s 630us/step - loss: 0.2398 - accuracy: 0.8999\n",
      "Epoch 31/100\n",
      "143/143 [==============================] - 0s 628us/step - loss: 0.2332 - accuracy: 0.9059\n",
      "Epoch 32/100\n",
      "143/143 [==============================] - 0s 638us/step - loss: 0.2289 - accuracy: 0.9041\n",
      "Epoch 33/100\n",
      "143/143 [==============================] - 0s 653us/step - loss: 0.2267 - accuracy: 0.9071\n",
      "Epoch 34/100\n",
      "143/143 [==============================] - 0s 628us/step - loss: 0.2271 - accuracy: 0.9063\n",
      "Epoch 35/100\n",
      "143/143 [==============================] - 0s 632us/step - loss: 0.2227 - accuracy: 0.9087\n",
      "Epoch 36/100\n",
      "143/143 [==============================] - 0s 640us/step - loss: 0.2216 - accuracy: 0.9100\n",
      "Epoch 37/100\n",
      "143/143 [==============================] - 0s 627us/step - loss: 0.2214 - accuracy: 0.9101\n",
      "Epoch 38/100\n",
      "143/143 [==============================] - 0s 629us/step - loss: 0.2224 - accuracy: 0.9085\n",
      "Epoch 39/100\n",
      "143/143 [==============================] - 0s 628us/step - loss: 0.2196 - accuracy: 0.9112\n",
      "Epoch 40/100\n",
      "143/143 [==============================] - 0s 634us/step - loss: 0.2157 - accuracy: 0.9115\n",
      "Epoch 41/100\n",
      "143/143 [==============================] - 0s 632us/step - loss: 0.2123 - accuracy: 0.9114\n",
      "Epoch 42/100\n",
      "143/143 [==============================] - 0s 632us/step - loss: 0.2133 - accuracy: 0.9121\n",
      "Epoch 43/100\n",
      "143/143 [==============================] - 0s 637us/step - loss: 0.2069 - accuracy: 0.9154\n",
      "Epoch 44/100\n",
      "143/143 [==============================] - 0s 639us/step - loss: 0.2227 - accuracy: 0.9094\n",
      "Epoch 45/100\n",
      "143/143 [==============================] - 0s 646us/step - loss: 0.2286 - accuracy: 0.9105\n",
      "Epoch 46/100\n",
      "143/143 [==============================] - 0s 634us/step - loss: 0.2169 - accuracy: 0.9134\n",
      "Epoch 47/100\n",
      "143/143 [==============================] - 0s 638us/step - loss: 0.2089 - accuracy: 0.9161\n",
      "Epoch 48/100\n",
      "143/143 [==============================] - 0s 631us/step - loss: 0.2075 - accuracy: 0.9175\n",
      "Epoch 49/100\n",
      "143/143 [==============================] - 0s 784us/step - loss: 0.2071 - accuracy: 0.9166\n",
      "Epoch 50/100\n",
      "143/143 [==============================] - 0s 846us/step - loss: 0.1974 - accuracy: 0.9183\n",
      "Epoch 51/100\n",
      "143/143 [==============================] - 0s 885us/step - loss: 0.1959 - accuracy: 0.9213\n",
      "Epoch 52/100\n",
      "143/143 [==============================] - 0s 862us/step - loss: 0.2019 - accuracy: 0.9175\n",
      "Epoch 53/100\n",
      "143/143 [==============================] - 0s 820us/step - loss: 0.1918 - accuracy: 0.9203\n",
      "Epoch 54/100\n",
      "143/143 [==============================] - 0s 826us/step - loss: 0.1964 - accuracy: 0.9196\n",
      "Epoch 55/100\n",
      "143/143 [==============================] - 0s 820us/step - loss: 0.1880 - accuracy: 0.9245\n",
      "Epoch 56/100\n",
      "143/143 [==============================] - 0s 865us/step - loss: 0.1905 - accuracy: 0.9226\n",
      "Epoch 57/100\n",
      "143/143 [==============================] - 0s 670us/step - loss: 0.1911 - accuracy: 0.9213\n",
      "Epoch 58/100\n",
      "143/143 [==============================] - 0s 727us/step - loss: 0.1850 - accuracy: 0.9232\n",
      "Epoch 59/100\n",
      "143/143 [==============================] - 0s 788us/step - loss: 0.1812 - accuracy: 0.9271\n",
      "Epoch 60/100\n",
      "143/143 [==============================] - 0s 822us/step - loss: 0.1874 - accuracy: 0.9243\n",
      "Epoch 61/100\n",
      "143/143 [==============================] - 0s 830us/step - loss: 0.1817 - accuracy: 0.9261\n",
      "Epoch 62/100\n",
      "143/143 [==============================] - 0s 671us/step - loss: 0.1856 - accuracy: 0.9221\n",
      "Epoch 63/100\n",
      "143/143 [==============================] - 0s 652us/step - loss: 0.1824 - accuracy: 0.9264\n",
      "Epoch 64/100\n",
      "143/143 [==============================] - 0s 827us/step - loss: 0.1810 - accuracy: 0.9263\n",
      "Epoch 65/100\n",
      "143/143 [==============================] - 0s 845us/step - loss: 0.1818 - accuracy: 0.9247\n",
      "Epoch 66/100\n",
      "143/143 [==============================] - 0s 648us/step - loss: 0.1784 - accuracy: 0.9261\n",
      "Epoch 67/100\n",
      "143/143 [==============================] - 0s 618us/step - loss: 0.1788 - accuracy: 0.9271\n",
      "Epoch 68/100\n",
      "143/143 [==============================] - 0s 627us/step - loss: 0.1805 - accuracy: 0.9266\n",
      "Epoch 69/100\n",
      "143/143 [==============================] - 0s 836us/step - loss: 0.1763 - accuracy: 0.9273\n",
      "Epoch 70/100\n",
      "143/143 [==============================] - 0s 822us/step - loss: 0.1720 - accuracy: 0.9295\n",
      "Epoch 71/100\n",
      "143/143 [==============================] - 0s 709us/step - loss: 0.1753 - accuracy: 0.9285\n",
      "Epoch 72/100\n",
      "143/143 [==============================] - 0s 623us/step - loss: 0.1752 - accuracy: 0.9278\n",
      "Epoch 73/100\n",
      "143/143 [==============================] - 0s 620us/step - loss: 0.1713 - accuracy: 0.9289\n",
      "Epoch 74/100\n",
      "143/143 [==============================] - 0s 622us/step - loss: 0.1689 - accuracy: 0.9311\n",
      "Epoch 75/100\n",
      "143/143 [==============================] - 0s 667us/step - loss: 0.1694 - accuracy: 0.9313\n",
      "Epoch 76/100\n",
      "143/143 [==============================] - 0s 659us/step - loss: 0.1688 - accuracy: 0.9314\n",
      "Epoch 77/100\n",
      "143/143 [==============================] - 0s 656us/step - loss: 0.1756 - accuracy: 0.9293\n",
      "Epoch 78/100\n",
      "143/143 [==============================] - 0s 644us/step - loss: 0.1682 - accuracy: 0.9301\n",
      "Epoch 79/100\n",
      "143/143 [==============================] - 0s 621us/step - loss: 0.1661 - accuracy: 0.9322\n",
      "Epoch 80/100\n",
      "143/143 [==============================] - 0s 629us/step - loss: 0.1679 - accuracy: 0.9294\n",
      "Epoch 81/100\n",
      "143/143 [==============================] - 0s 620us/step - loss: 0.1720 - accuracy: 0.9286\n",
      "Epoch 82/100\n",
      "143/143 [==============================] - 0s 637us/step - loss: 0.1660 - accuracy: 0.9310\n",
      "Epoch 83/100\n",
      "143/143 [==============================] - 0s 622us/step - loss: 0.1637 - accuracy: 0.9321\n",
      "Epoch 84/100\n",
      "143/143 [==============================] - 0s 622us/step - loss: 0.1640 - accuracy: 0.9330\n",
      "Epoch 85/100\n",
      "143/143 [==============================] - 0s 630us/step - loss: 0.1678 - accuracy: 0.9299\n",
      "Epoch 86/100\n",
      "143/143 [==============================] - 0s 625us/step - loss: 0.1632 - accuracy: 0.9320\n",
      "Epoch 87/100\n",
      "143/143 [==============================] - 0s 627us/step - loss: 0.1637 - accuracy: 0.9310\n",
      "Epoch 88/100\n",
      "143/143 [==============================] - 0s 621us/step - loss: 0.1607 - accuracy: 0.9345\n",
      "Epoch 89/100\n",
      "143/143 [==============================] - 0s 610us/step - loss: 0.1691 - accuracy: 0.9293\n",
      "Epoch 90/100\n",
      "143/143 [==============================] - 0s 629us/step - loss: 0.1614 - accuracy: 0.9340\n",
      "Epoch 91/100\n",
      "143/143 [==============================] - 0s 622us/step - loss: 0.1626 - accuracy: 0.9331\n",
      "Epoch 92/100\n",
      "143/143 [==============================] - 0s 634us/step - loss: 0.1558 - accuracy: 0.9331\n",
      "Epoch 93/100\n",
      "143/143 [==============================] - 0s 613us/step - loss: 0.1605 - accuracy: 0.9323\n",
      "Epoch 94/100\n",
      "143/143 [==============================] - 0s 624us/step - loss: 0.1576 - accuracy: 0.9336\n",
      "Epoch 95/100\n",
      "143/143 [==============================] - 0s 616us/step - loss: 0.1533 - accuracy: 0.9373\n",
      "Epoch 96/100\n",
      "143/143 [==============================] - 0s 657us/step - loss: 0.1586 - accuracy: 0.9326\n",
      "Epoch 97/100\n",
      "143/143 [==============================] - 0s 618us/step - loss: 0.1603 - accuracy: 0.9328\n",
      "Epoch 98/100\n",
      "143/143 [==============================] - 0s 630us/step - loss: 0.1552 - accuracy: 0.9362\n",
      "Epoch 99/100\n",
      "143/143 [==============================] - 0s 623us/step - loss: 0.1518 - accuracy: 0.9374\n",
      "Epoch 100/100\n",
      "143/143 [==============================] - 0s 623us/step - loss: 0.1560 - accuracy: 0.9368\n"
     ]
    },
    {
     "data": {
      "text/plain": [
       "<tensorflow.python.keras.callbacks.History at 0x7fbe7a65a590>"
      ]
     },
     "execution_count": 31,
     "metadata": {},
     "output_type": "execute_result"
    }
   ],
   "source": [
    "model.fit(X_train, y_train_enc, epochs=100, batch_size=100)"
   ]
  },
  {
   "cell_type": "code",
   "execution_count": 32,
   "metadata": {},
   "outputs": [
    {
     "name": "stdout",
     "output_type": "stream",
     "text": [
      "192/192 [==============================] - 0s 559us/step - loss: 0.2018 - accuracy: 0.9336\n",
      "93.35944056510925\n"
     ]
    }
   ],
   "source": [
    "# evaluate the model\n",
    "score = model.evaluate(X_test, y_test_enc)\n",
    "print(score[1]*100)"
   ]
  },
  {
   "cell_type": "markdown",
   "metadata": {},
   "source": [
    "# MLPClassifier (for comparison purposes)\n",
    "\n",
    "Use the MLPClassifier from the Sci-kit Learn library and predict the same target variable."
   ]
  },
  {
   "cell_type": "markdown",
   "metadata": {},
   "source": [
    "### split data"
   ]
  },
  {
   "cell_type": "code",
   "execution_count": 33,
   "metadata": {},
   "outputs": [],
   "source": [
    "X_train, X_test, y_train, y_test = train_test_split(housing_X_std, housing_y, random_state=42, test_size=0.3)"
   ]
  },
  {
   "cell_type": "code",
   "execution_count": 34,
   "metadata": {},
   "outputs": [
    {
     "data": {
      "text/plain": [
       "((14299, 9), (6129, 9))"
      ]
     },
     "execution_count": 34,
     "metadata": {},
     "output_type": "execute_result"
    }
   ],
   "source": [
    "X_train.shape, X_test.shape"
   ]
  },
  {
   "cell_type": "markdown",
   "metadata": {},
   "source": [
    "### Define the model"
   ]
  },
  {
   "cell_type": "code",
   "execution_count": 35,
   "metadata": {},
   "outputs": [
    {
     "data": {
      "text/plain": [
       "MLPClassifier(activation='relu', alpha=0.0001, batch_size='auto', beta_1=0.9,\n",
       "              beta_2=0.999, early_stopping=False, epsilon=1e-08,\n",
       "              hidden_layer_sizes=(100,), learning_rate='constant',\n",
       "              learning_rate_init=0.001, max_fun=15000, max_iter=1000,\n",
       "              momentum=0.9, n_iter_no_change=10, nesterovs_momentum=True,\n",
       "              power_t=0.5, random_state=None, shuffle=True, solver='adam',\n",
       "              tol=0.0001, validation_fraction=0.1, verbose=False,\n",
       "              warm_start=False)"
      ]
     },
     "execution_count": 35,
     "metadata": {},
     "output_type": "execute_result"
    }
   ],
   "source": [
    "from sklearn.neural_network import MLPClassifier\n",
    "\n",
    "mlp_clf = MLPClassifier(hidden_layer_sizes=(100,), max_iter=1000)\n",
    "mlp_clf.fit(X_train, y_train)"
   ]
  },
  {
   "cell_type": "code",
   "execution_count": 36,
   "metadata": {},
   "outputs": [],
   "source": [
    "y_test_pred = mlp_clf.predict(X_test)\n",
    "X_train_pred = mlp_clf.predict(X_train)"
   ]
  },
  {
   "cell_type": "markdown",
   "metadata": {},
   "source": [
    "### Confusion Matrix"
   ]
  },
  {
   "cell_type": "code",
   "execution_count": 37,
   "metadata": {},
   "outputs": [
    {
     "data": {
      "text/plain": [
       "array([[2506,   54,    7,  114],\n",
       "       [  73, 1900,    8,    0],\n",
       "       [  33,    6,  611,   11],\n",
       "       [  94,    1,   21,  690]])"
      ]
     },
     "execution_count": 37,
     "metadata": {},
     "output_type": "execute_result"
    }
   ],
   "source": [
    "from sklearn.metrics import confusion_matrix\n",
    "confusion_matrix(y_test, y_test_pred)"
   ]
  },
  {
   "cell_type": "markdown",
   "metadata": {},
   "source": [
    "The MLP classifier model has the similar precision recall and F1 score of about 93%.High precision relates the low false positive rate. Recall relates to the high true positive rate. The recall and precision for our model of suggest that model is good."
   ]
  },
  {
   "cell_type": "code",
   "execution_count": 38,
   "metadata": {},
   "outputs": [
    {
     "name": "stdout",
     "output_type": "stream",
     "text": [
      "Precision 0.9314450974670504\n",
      "Recall 0.9311470060368738\n",
      "F1 score 0.9312642705072262\n"
     ]
    }
   ],
   "source": [
    "from sklearn.metrics import precision_score\n",
    "from sklearn.metrics import f1_score\n",
    "from sklearn.metrics import recall_score\n",
    "p = precision_score(y_test, y_test_pred, average='weighted')\n",
    "print('Precision',p)\n",
    "r = recall_score(y_test, y_test_pred, average='weighted')\n",
    "print('Recall',r)\n",
    "f_score = f1_score(y_test, y_test_pred, average='weighted')\n",
    "print('F1 score',f_score)"
   ]
  },
  {
   "cell_type": "markdown",
   "metadata": {},
   "source": [
    "### Accuracy Metrics"
   ]
  },
  {
   "cell_type": "code",
   "execution_count": 39,
   "metadata": {},
   "outputs": [
    {
     "name": "stdout",
     "output_type": "stream",
     "text": [
      "Accuracy of model on Test dataset 0.9311470060368738\n",
      "Accuracy of model on Train dataset 0.9475487796349396\n"
     ]
    }
   ],
   "source": [
    "from sklearn.metrics import accuracy_score\n",
    "print(\"Accuracy of model on Test dataset\",accuracy_score(y_test, y_test_pred))\n",
    "print(\"Accuracy of model on Train dataset\",accuracy_score(y_train, X_train_pred))"
   ]
  },
  {
   "cell_type": "markdown",
   "metadata": {},
   "source": [
    "# Discussion\n",
    "\n",
    "Provide an executive summary of your work. In your summary, discuss your model building approach, your results, and the best model. Compare and contrast the three models you built. Also, address any issues of overfitting, etc. if applicable."
   ]
  },
  {
   "cell_type": "markdown",
   "metadata": {},
   "source": [
    "- My approach in building these models has begun in understanding the data in depth by performing some exploratory analysis. I worked on few visualizations to better understand the data. This has helped me to create 3 transformed variables that can improve the model. I analysed the benefits that this model could provide to real-world business requirements and developed it efficiently. I preprocessed the data to fit and train the ML models. I tried to increase the accuracy by modifying the parameters such as optimizer, learning rate, activation funtion, number of layers etc.\n",
    "\n",
    "- The accuracy of all the three models was almost similar and it is around 92% - 94%.\n",
    "    - DNN classifier model has an accuracy of 93% and loss of 0.15 on test data and loss 0.19 on test data\n",
    "    - Keras DNN classifier has an accuracy 93.6%, loss 0.15 on train data and an accuracy of 92.5% and loss of 0.17 on test data.\n",
    "    - MLP classifier has an accuracy of 94% on train data and 93% on test data. \n",
    "    \n",
    "- Comparing the three models MLP classifier has little higher accuarcy than the other two models. But since the difference is not very high all the models are equally good in predicting the district. \n",
    "\n",
    "- There is only a minor difference between the test and train accuracies which suggest us that there are no issues of overfitting or underfitting. In case of such issue we have avoid those with regularizations, early stopping, dropout etc.\n"
   ]
  },
  {
   "cell_type": "code",
   "execution_count": null,
   "metadata": {},
   "outputs": [],
   "source": []
  }
 ],
 "metadata": {
  "kernelspec": {
   "display_name": "Python 3",
   "language": "python",
   "name": "python3"
  },
  "language_info": {
   "codemirror_mode": {
    "name": "ipython",
    "version": 3
   },
   "file_extension": ".py",
   "mimetype": "text/x-python",
   "name": "python",
   "nbconvert_exporter": "python",
   "pygments_lexer": "ipython3",
   "version": "3.7.4"
  }
 },
 "nbformat": 4,
 "nbformat_minor": 2
}
